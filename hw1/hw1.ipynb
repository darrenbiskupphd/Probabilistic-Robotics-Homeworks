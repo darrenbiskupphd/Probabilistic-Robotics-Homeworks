{
 "cells": [
  {
   "cell_type": "markdown",
   "id": "3de0b849",
   "metadata": {},
   "source": [
    "---\n",
    "author: Darren Biskup\n",
    "date: September 10 2025\n",
    "title: Homework 1 - Probability Review\n",
    "\n",
    "jupyter: python3\n",
    "embed-resources: true\n",
    "---"
   ]
  },
  {
   "cell_type": "markdown",
   "id": "d69a8511",
   "metadata": {},
   "source": [
    "**1. Use function `random()` from the `random` Python module to estimate the value of π. Your algorithm must be based on the given random generator (you may not use any alternative algorithm for generating the value of π) and you may not use any other package/library.**"
   ]
  },
  {
   "cell_type": "markdown",
   "id": "d9cd4de5",
   "metadata": {},
   "source": [
    "First we can spawn 1000 trials of uniformly random points in a square of side length 1 centered at the origin. Then if we count how many of those points fall within a circle of radius 0.5, we can use the ratio of points in the circle to total points to estimate $\\pi$. (law of large numbers)\n",
    "\n",
    "The theoretical probability that a randomly sampled point in the unit square is also inside the circle is the ratio of the area of the circle to the area of the square.\n",
    "\n",
    "$$\n",
    "A_{circle} = \\pi r^2 = \\pi (0.5)^2 = \\frac{\\pi}{4}\n",
    "$$\n",
    "\n",
    "$$\n",
    "A_{square} = 1^2 = 1\n",
    "$$\n",
    "\n",
    "Therefore the probability that the point is in the circle is: $\\frac{\\pi}{4}$. The law of large numbers means that if we conduct an experiment where we sample a point in the square many times, the fraction of points that fall in the circle will converge to $\\frac{\\pi}{4}$. We can then multiply our estimate of this probability by 4 to get an estimate of $\\pi$.\n",
    "\n",
    "First spawn 1000 random points in the square:"
   ]
  },
  {
   "cell_type": "code",
   "execution_count": 2,
   "id": "a65ddb52",
   "metadata": {},
   "outputs": [],
   "source": [
    "import numpy as np\n",
    "import matplotlib.pyplot as plt\n",
    "\n",
    "num_trials = 100000\n",
    "x = np.random.rand(num_trials) - 0.5\n",
    "y = np.random.rand(num_trials) - 0.5"
   ]
  },
  {
   "cell_type": "markdown",
   "id": "af03d065",
   "metadata": {},
   "source": [
    "Next we can count how many of those points fall within the circle and divide by the total number of points."
   ]
  },
  {
   "cell_type": "code",
   "execution_count": 3,
   "id": "90e0a6d1",
   "metadata": {},
   "outputs": [
    {
     "name": "stdout",
     "output_type": "stream",
     "text": [
      "Estimated value of pi: 3.14432\n"
     ]
    }
   ],
   "source": [
    "num_inside_circle = np.sum(x**2 + y**2 <= 0.25)\n",
    "pi_estimate = (num_inside_circle / num_trials) * 4\n",
    "print(f\"Estimated value of pi: {pi_estimate}\")"
   ]
  },
  {
   "cell_type": "markdown",
   "id": "957ebb34",
   "metadata": {},
   "source": [
    "**2. Covariance matrix for a multivariate random variable is defined as $\\sum_{xx} = E[(x - \\mu)(x - \\mu)^T]$. The cross covariance matrix for two multivariate random variables is defined as $\\sum_{xy} = E[(x - \\mu_x)(y - \\mu_y)^T]$.**\n",
    "\n",
    "**a. Express the covariance of a sum of two multivariate random variables in terms of\n",
    "covariance and cross-covariance.**\n"
   ]
  },
  {
   "cell_type": "markdown",
   "id": "4d8ef849",
   "metadata": {},
   "source": [
    "Let a new random variable $Z$ be the sum of 2 multivariate random variables $X$ and $Y$. Then the covariance of $Z$ is:\n",
    "\n",
    "$$\n",
    "\\Sigma_{zz} = E[(Z - \\mu_z)(Z - \\mu_z)^T]\n",
    "$$\n",
    "\n",
    "If we expand the outer product and apply properties of expectation we get:\n",
    "\n",
    "$$\n",
    "\\begin{aligned}\n",
    "\\Sigma_{zz} &= E[ZZ^T - Z\\mu_z^T - \\mu_zZ^T + \\mu_z\\mu_z^T]\\\\\n",
    "&= E[ZZ^T] - E[Z]\\mu_z^T - \\mu_zE[Z]^T + \\mu_z\\mu_z^T \\\\\n",
    "&= E[ZZ^T] - \\mu_z\\mu_z^T - \\mu_z\\mu_z^T + \\mu_z\\mu_z^T \\\\\n",
    "&= E[ZZ^T] - \\mu_z\\mu_z^T\n",
    "\\end{aligned}\n",
    "$$\n",
    "\n",
    "now we can substitute $Z = X + Y$ and $\\mu_z = \\mu_x + \\mu_y$:\n",
    "\n",
    "$$\n",
    "\\begin{aligned}\n",
    "\\Sigma_{zz} &= E[(X + Y)(X + Y)^T] - (\\mu_x + \\mu_y)(\\mu_x + \\mu_y)^T \\\\\n",
    "&= E[XX^T + XY^T + YX^T + YY^T] - (\\mu_x\\mu_x^T + \\mu_x\\mu_y^T + \\mu_y\\mu_x^T + \\mu_y\\mu_y^T) \\\\\n",
    "&= E[XX^T] + E[XY^T] + E[YX^T] + E[YY^T] - \\mu_x\\mu_x^T - \\mu_x\\mu_y^T - \\mu_y\\mu_x^T - \\mu_y\\mu_y^T \\\\\n",
    "&= (E[XX^T] - \\mu_x\\mu_x^T) + (E[XY^T] - \\mu_x\\mu_y^T) + (E[YX^T] - \\mu_y\\mu_x^T) + (E[YY^T] - \\mu_y\\mu_y^T) \\\\\n",
    "\\end{aligned}\n",
    "$$\n",
    "\n",
    "therefore:\n",
    "\n",
    "$$\n",
    "\\Sigma_{zz} = \\Sigma{xx} + \\Sigma_{xy} + \\Sigma_{yx} + \\Sigma_{yy}\n",
    "$$"
   ]
  },
  {
   "cell_type": "markdown",
   "id": "49f48d75",
   "metadata": {},
   "source": [
    "**b. Prove that the cross-covariance of two independent multivariate random\n",
    "variables is a zero-matrix.**\n",
    "\n",
    "the cross covariance of two multivariate random variables as stated is:\n",
    "\n",
    "$$\n",
    "\\begin{aligned}\n",
    "\\Sigma_{xy} &= E[(X - \\mu_x)(Y - \\mu_y)^T] \\\\\n",
    "&= E[XY^T] - \\mu_x\\mu_y^T\n",
    "\\end{aligned}\n",
    "$$\n",
    "\n",
    "if $X$ and $Y$ are independent, then $E[XY^T] = E[X]E[Y]^T = \\mu_x\\mu_y^T$. This is because $p(x,y) = p(x)p(y)$:\n",
    "\n",
    "$$\n",
    "\\begin{aligned}\n",
    "E[XY^T] &= \\int_x \\int_y xy^T p(x,y) dy dx\\\\\n",
    "&= \\int_x \\int_y xy^T p(x)p(y) dy dx\\\\\n",
    "&= \\int_x x p(x) (\\int_y y^T p(y) dy) dx\\\\\n",
    "&= \\mu_y^T \\int_x x p(x) dx\\\\\n",
    "&= \\mu_x \\mu_y^T\n",
    "\\end{aligned}\n",
    "$$\n",
    "\n",
    "Therefore:  \n",
    "$$\n",
    "\\Sigma_{xy} = \\mu_x\\mu_y^T - \\mu_x\\mu_y^T = 0\n",
    "$$"
   ]
  },
  {
   "cell_type": "markdown",
   "id": "bdddd9c8",
   "metadata": {},
   "source": [
    "**c. What is the corollary of the above two results?**\n",
    "\n",
    "When $X$ and $Y$ are independent, the covariance of their sum is thus:\n",
    "\n",
    "$$\n",
    "\\begin{aligned}\n",
    "\\Sigma_{zz} &= \\Sigma_{xx} + \\Sigma_{xy} + \\Sigma_{yx} + \\Sigma_{yy}\\\\\n",
    "\\Sigma_{zz} &= \\Sigma_{xx} + 0 + 0 + \\Sigma_{yy}\\\\\n",
    "\\Sigma_{zz} &= \\Sigma_{xx} + \\Sigma_{yy}\n",
    "\\end{aligned}\n",
    "$$"
   ]
  },
  {
   "cell_type": "markdown",
   "id": "9f9de975",
   "metadata": {},
   "source": [
    "**3. A robot has 10 (unreliable) sensors that independently detect the presence of an object in its intake mechanism. The probability of detecting the object for each sensor is 0.1.**  \n",
    "**a. Write the distribution of the random variable that represents how many sensors have detected the presence of an object?**"
   ]
  },
  {
   "cell_type": "markdown",
   "id": "98629d33",
   "metadata": {},
   "source": [
    "Let $X$ be the random variable representing how many sensors currently detect an object. If each sensor has an independant probability of 0.1 of detecting an object, then $X$ follows a binomial distribution with $n=10$ and $p=0.1$:\n",
    "\n",
    "$$\n",
    "X \\sim \\mathrm{Bin}(n=10, p=0.1)\n",
    "$$"
   ]
  },
  {
   "cell_type": "markdown",
   "id": "dafe3ddd",
   "metadata": {},
   "source": [
    " **b. What is the probability that at least one sensor has detected the presence of an object?**"
   ]
  },
  {
   "cell_type": "markdown",
   "id": "cf80a11a",
   "metadata": {},
   "source": [
    "The probability that at least one sensor has detected an object is equal to one minus the probability that no sensors have detected an object. If each sensor has a 90 percent chance of not detecting an object, then the probability that all 10 sensors do not detect an object is:\n",
    "\n",
    "$$\n",
    "P(X=0) = 0.9^{10} \n",
    "$$\n",
    "\n",
    "so the probability that at least one sensor detects an object is:\n",
    "\n",
    "$$\n",
    "1 - P(X=0) = 1 - 0.9^{10} \\approx 0.65132\n",
    "$$"
   ]
  },
  {
   "cell_type": "markdown",
   "id": "7871ce24",
   "metadata": {},
   "source": [
    "**4. A two-dimensional normally-distributed random variable has the uncertainty ellipse centered at (3, 4) and one principal axis of the ellipse forms a 30-degree angle with the x-axis of the coordinate system. The variance associated with that axis is 1. The variance associated with the other axis is 0.25. Write the probability density function of this random variable.**\n"
   ]
  },
  {
   "cell_type": "markdown",
   "id": "f6d4f765",
   "metadata": {},
   "source": [
    "We are told that the random variable is normally distributed with mean $\\mu = (3, 4)$. This means that the PDF will be in a gaussian form:\n",
    "$$\n",
    "f(x) = \\frac{1}{2\\pi \\sqrt{|\\Sigma|}} \\exp\\left(-\\frac{1}{2}(x - \\mu)^T \\Sigma^{-1} (x - \\mu)\\right)\n",
    "$$\n",
    "\n",
    "To complete the PDF we need to find the covariance matrix $\\Sigma$ and the mean vector $\\mu$. The problem statement gives us the mean vector directly as $\\mu = \\begin{bmatrix} 3 & 4 \\end{bmatrix}^\\top$.\n",
    "\n",
    "The covariance matrix for a 2D gaussian in the original coordinates will take on the form:\n",
    "\n",
    "$$\n",
    "\\Sigma = \\begin{bmatrix}\n",
    "\\sigma_{11}^2 & \\rho_{12}\\sigma_{11}\\sigma_{22} \\\\\n",
    "\\rho_{12}\\sigma_{11}\\sigma_{22} & \\sigma_{22}^2\n",
    "\\end{bmatrix}\n",
    "$$\n",
    "\n",
    "But the problem gives us the variances along the principal axes of the ellipse. So it is more convenient to express the covariance matrix as a rotation of the covariance in its principal axis frame:\n",
    "\n",
    "$$\n",
    "\\Sigma = R D R^T\n",
    "$$\n",
    "\n",
    "Where $D$ is the diagonal matrix of variances along the principal axes, and $R$ is the rotation matrix that aligns the principal axes with the coordinate axes. We are told that the variances along the principal axes are 1 and 0.25 so $D = \\begin{bmatrix} 1 & 0 \\\\ 0 & 0.25 \\end{bmatrix}$. We are also told that the principal axis associated with variance 1 forms a 30 degree angle with the original coordinates' x-axis, so the rotation matrix is $R = \\begin{bmatrix} \\cos(30^\\circ) & -\\sin(30^\\circ) \\\\ \\sin(30^\\circ) & \\cos(30^\\circ) \\end{bmatrix}$.\n",
    "\n",
    "Thus:\n",
    "$$\n",
    "\\Sigma = R D R^T = \\begin{bmatrix} \\cos(30^\\circ) & -\\sin(30^\\circ) \\\\ \\sin(30^\\circ) & \\cos(30^\\circ) \\end{bmatrix} \\begin{bmatrix} 1 & 0 \\\\ 0 & 0.25 \\end{bmatrix} \\begin{bmatrix} \\cos(30^\\circ) & \\sin(30^\\circ) \\\\ -\\sin(30^\\circ) & \\cos(30^\\circ) \\end{bmatrix}\n",
    "$$\n",
    "\n",
    "$$\n",
    "\\Sigma = \\left[\\begin{matrix}0.8125 & 0.1875 \\sqrt{3}\\\\0.1875 \\sqrt{3} & 0.4375\\end{matrix}\\right]\n",
    "$$\n",
    "\n",
    "Now I can use `sympy` to compute the determinant and inverse of $\\Sigma$, and write out the full PDF:"
   ]
  },
  {
   "cell_type": "code",
   "execution_count": 1,
   "id": "87ed2150",
   "metadata": {},
   "outputs": [
    {
     "data": {
      "text/latex": [
       "$\\displaystyle \\frac{1.0 e^{\\left(x_{1} - 3\\right) \\left(- 0.875 x_{1} - 0.75 \\sqrt{3} \\left(2.0 - 0.5 x_{2}\\right) + 2.625\\right) + \\left(x_{2} - 4\\right) \\left(- 1.625 x_{2} - 0.75 \\sqrt{3} \\left(1.5 - 0.5 x_{1}\\right) + 6.5\\right)}}{\\pi}$"
      ],
      "text/plain": [
       "1.0*exp((x_1 - 3)*(-0.875*x_1 - 0.75*sqrt(3)*(2.0 - 0.5*x_2) + 2.625) + (x_2 - 4)*(-1.625*x_2 - 0.75*sqrt(3)*(1.5 - 0.5*x_1) + 6.5))/pi"
      ]
     },
     "execution_count": 1,
     "metadata": {},
     "output_type": "execute_result"
    }
   ],
   "source": [
    "from sympy import *\n",
    "\n",
    "theta = rad(30)\n",
    "mu = Matrix([3,4])\n",
    "R = Matrix([[cos(theta), -sin(theta)],[sin(theta), cos(theta)]])\n",
    "D = Matrix([[1,0],[0,0.25]])\n",
    "\n",
    "Sigma = R * D * R.T\n",
    "Sigma_det = Sigma.det()\n",
    "Sigma_inv = Sigma.inv()\n",
    "\n",
    "x1, x2 = symbols('x_1 x_2')\n",
    "\n",
    "pdf = (\n",
    "    1/(2*pi*sqrt(Sigma_det)) *\n",
    "    exp((-1/2 * (Matrix([x1, x2]) - mu).T * Sigma_inv * (Matrix([x1, x2]) - mu))[0])\n",
    ")\n",
    "\n",
    "pdf"
   ]
  },
  {
   "cell_type": "markdown",
   "id": "37e21cf4",
   "metadata": {},
   "source": [
    "Final PDF:\n",
    "\n",
    "$$\n",
    "f(x_1, x_2) = \\frac{1}{\\pi} \\exp\\left[\n",
    "    (x_1 - 3)\\left(-0.875\\, x_1 - 0.75\\sqrt{3}\\,(2.0 - 0.5\\, x_2) + 2.625\\right)\n",
    "\\right.\n",
    "$$\n",
    "$$\n",
    "\\left.\n",
    "    +\\;\n",
    "    (x_2 - 4)\\left(-1.625\\, x_2 - 0.75\\sqrt{3}\\,(1.5 - 0.5\\, x_1) + 6.5\\right)\n",
    "\\right]\n",
    "$$"
   ]
  },
  {
   "cell_type": "markdown",
   "id": "2c595a2d",
   "metadata": {},
   "source": [
    "**5. Suppose there is a village in which every family wants to have a boy. If they get a boy, they stop having more children, if they get a girl, they continue to have more children. What is the average number of children per family?**"
   ]
  },
  {
   "cell_type": "markdown",
   "id": "ff7b3b4a",
   "metadata": {},
   "source": [
    "Let $X$ be the random variable representing the number of children in a family. The number of children a family has can be modeled as following a geometric distribution with $p=0.5$. The average number of children per family is then just the expected value of $X$:\n",
    "\n",
    "$$\n",
    "X \\sim \\mathrm{Geom}(p=0.5) \\\\ \n",
    "E[X] = \\frac{1}{p} = \\frac{1}{0.5} = 2\n",
    "$$\n",
    "\n",
    "We can also verify this result by considering the possible outcomes. Half of the families will have 1 child (boy on first try). Then a quarter will have 2 children (boy on second try). An eighth will get 3 children (boy on 3rd try), and so on. So,\n",
    "\n",
    "$$\n",
    "E[X] = \\sum_{k=1}^{\\infty} k \\left(\\frac{1}{2}\\right)^k\n",
    "$$\n",
    "\n",
    "this is a known power series which converges to 2. Thus the average number of children per family is 2."
   ]
  },
  {
   "cell_type": "markdown",
   "id": "4044b8f9",
   "metadata": {},
   "source": []
  }
 ],
 "metadata": {
  "kernelspec": {
   "display_name": "research",
   "language": "python",
   "name": "python3"
  },
  "language_info": {
   "codemirror_mode": {
    "name": "ipython",
    "version": 3
   },
   "file_extension": ".py",
   "mimetype": "text/x-python",
   "name": "python",
   "nbconvert_exporter": "python",
   "pygments_lexer": "ipython3",
   "version": "3.12.8"
  }
 },
 "nbformat": 4,
 "nbformat_minor": 5
}
