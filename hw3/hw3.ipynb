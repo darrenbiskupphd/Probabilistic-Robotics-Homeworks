{
 "cells": [
  {
   "cell_type": "markdown",
   "id": "e76f2f90",
   "metadata": {},
   "source": [
    "---\n",
    "author: Darren Biskup\n",
    "date: September 21 2025\n",
    "title: Homework 3 - Kalman Filter\n",
    "\n",
    "jupyter: python3\n",
    "embed-resources: true\n",
    "---"
   ]
  },
  {
   "cell_type": "markdown",
   "id": "0069e5a4",
   "metadata": {},
   "source": [
    "**1. (20pts) Consider a drone taking off vertically by producing a constant thrust force with its\n",
    "propellers. The drone has an infrared sensor that shoots downwards and measures the\n",
    "altitude. The drone mass ($m$) and sampling rate ($Δt$) are parameters known to the\n",
    "system.**\n",
    "\n",
    "**Assume that the drone can control the thrust directly (this is a simplifying assumption,\n",
    "usually the model is more complex and includes the motor dynamics and the propeller\n",
    "model), but the signal is noisy. The input noise is Gaussian with standard deviation $σ_T$.\n",
    "The altitude measurement coming from the infrared sensor is also a Gaussian process\n",
    "with standard deviation $σ_h$.**\n",
    "\n",
    "**Write the discrete-time model in canonical form that is to be used to implement the\n",
    "Kalman filter that estimates the drone altitude. Specify the $A$, $B$, $C$ matrices of the model\n",
    "and covariance matrices of the input ($Σ_u$) and measurement ($Σ_z$). What is the\n",
    "dimension of state covariance? Show all derivations starting from first principles of laws\n",
    "of motion.**"
   ]
  },
  {
   "cell_type": "markdown",
   "id": "8dbc836a",
   "metadata": {},
   "source": [
    "**2. (30pts) Using the cartesian robot code from class as the reference, modify the program \n",
    "to simulate the drone liftoff and use the Kalman filter to estimate the altitude. Assume the \n",
    "following parameters:**\n",
    "\n",
    "- Drone mass is 0.25kg\n",
    "- Sampling rate is 200Hz\n",
    "- Propellers are producing a constant thrust of 2.7N with variance of 0.25N².\n",
    "- Measurement sample uncertainty is Gaussian but the variance value changes for each sample with uniform distribution between 0.01m² and 0.5m². Assume that the sensor correctly reports the variance.\n",
    "- Only the first 5 seconds of simulation are of interest.\n",
    "\n",
    "**Simulate the following cases:**\n",
    "\n",
    "- Altitude is obtained by “stealing” the ground truth from the simulator.\n",
    "- Altitude is taken at “face value” from the sensor without the Kalman filter.\n",
    "- Altitude is estimated by the Kalman filter and the models are matched.\n",
    "- Altitude is estimated by the Kalman filter, but the estimator has the mass parameter incorrectly set to 10% higher than the actual mass.\n",
    "\n",
    "**Plot the altitude for all four cases above (four plots on one figure, use different colors for \n",
    "each signal, do not use large markers that obscure the readability of the plot). Also plot \n",
    "the difference (error) between the ground truth and the estimate for the three cases \n",
    "above (three plots on one figure). Your plots must either include the legend or you must \n",
    "list which signal is which in your submission. Comment on the effect of the model \n",
    "mismatch. How does it impact the filter output?**"
   ]
  },
  {
   "cell_type": "markdown",
   "id": "3818c4b6",
   "metadata": {},
   "source": []
  }
 ],
 "metadata": {
  "kernelspec": {
   "display_name": "research",
   "language": "python",
   "name": "python3"
  },
  "language_info": {
   "codemirror_mode": {
    "name": "ipython",
    "version": 3
   },
   "file_extension": ".py",
   "mimetype": "text/x-python",
   "name": "python",
   "nbconvert_exporter": "python",
   "pygments_lexer": "ipython3",
   "version": "3.12.8"
  }
 },
 "nbformat": 4,
 "nbformat_minor": 5
}
