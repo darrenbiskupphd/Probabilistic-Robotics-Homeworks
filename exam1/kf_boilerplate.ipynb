{
 "cells": [
  {
   "cell_type": "markdown",
   "id": "8c0aadea",
   "metadata": {},
   "source": [
    "### declare system parameters"
   ]
  },
  {
   "cell_type": "code",
   "execution_count": 10,
   "id": "71937bda",
   "metadata": {},
   "outputs": [],
   "source": [
    "import numpy as np\n",
    "np.set_printoptions(precision=5, suppress=True)"
   ]
  },
  {
   "cell_type": "code",
   "execution_count": 11,
   "id": "ba24a8ce",
   "metadata": {},
   "outputs": [],
   "source": [
    "K = 0.01\n",
    "J = 0.01\n",
    "b = 0.01\n",
    "R = 1\n",
    "L = 0.5\n",
    "r = 0.05\n",
    "h_ref = 10\n",
    "V_ref = 10"
   ]
  },
  {
   "cell_type": "markdown",
   "id": "9d9e7157",
   "metadata": {},
   "source": [
    "### system dynamics"
   ]
  },
  {
   "cell_type": "code",
   "execution_count": 12,
   "id": "5acd6363",
   "metadata": {},
   "outputs": [],
   "source": [
    "dt = 1/10.0\n",
    "\n",
    "Ac = np.array([[0, -r, 0],\n",
    "              [0, -b/J, K/J],\n",
    "              [0, -K/L, -R/L]])\n",
    "\n",
    "Bc = np.array([[0,0],\n",
    "              [-1/J, 0],\n",
    "              [0, 1/L]])\n",
    "C = np.array([[V_ref/h_ref, 0, 0],\n",
    "              [0, 1, 0],\n",
    "              [0, 0, 1]])\n",
    "\n",
    "Ad = np.eye(3) + dt*Ac\n",
    "Bd = dt*Bc"
   ]
  },
  {
   "cell_type": "markdown",
   "id": "73f08579",
   "metadata": {},
   "source": [
    "### current state and variances"
   ]
  },
  {
   "cell_type": "code",
   "execution_count": 13,
   "id": "f8c45ab8",
   "metadata": {},
   "outputs": [],
   "source": [
    "u = np.array([1, 10])\n",
    "var_u = 0.01\n",
    "\n",
    "x_now = np.array([2, 11, 10])\n",
    "var_x = 0.02\n",
    "\n",
    "z_now = np.array([1.98*h_ref/V_ref, 11.1, 9.96])\n",
    "var_z = 0.1"
   ]
  },
  {
   "cell_type": "markdown",
   "id": "87647a32",
   "metadata": {},
   "source": [
    "### predictiction step"
   ]
  },
  {
   "cell_type": "code",
   "execution_count": 14,
   "id": "37e516de",
   "metadata": {},
   "outputs": [
    {
     "data": {
      "text/plain": [
       "array([[ 0.02   , -0.00009,  0.     ],\n",
       "       [-0.00009,  1.0164 ,  0.00156],\n",
       "       [ 0.     ,  0.00156,  0.0132 ]])"
      ]
     },
     "execution_count": 14,
     "metadata": {},
     "output_type": "execute_result"
    }
   ],
   "source": [
    "x_bar = Ad@x_now + Bd@u\n",
    "S_xbar = Ad @ np.eye(3)*var_x @ Ad.T + Bd @ np.eye(2)*var_u @ Bd.T\n",
    "\n",
    "S_xbar"
   ]
  },
  {
   "cell_type": "markdown",
   "id": "ad08229c",
   "metadata": {},
   "source": [
    "### Kalman Gain"
   ]
  },
  {
   "cell_type": "code",
   "execution_count": 15,
   "id": "66e4166c",
   "metadata": {},
   "outputs": [
    {
     "data": {
      "text/plain": [
       "array([[ 0.16667, -0.00007,  0.     ],\n",
       "       [-0.00007,  0.91042,  0.00124],\n",
       "       [ 0.     ,  0.00124,  0.11659]])"
      ]
     },
     "execution_count": 15,
     "metadata": {},
     "output_type": "execute_result"
    }
   ],
   "source": [
    "K = S_xbar @ C.T @ np.linalg.inv(C @ S_xbar @ C.T + np.eye(3)*var_z)\n",
    "K"
   ]
  },
  {
   "cell_type": "markdown",
   "id": "67c8fa34",
   "metadata": {},
   "source": [
    "### Innovation step"
   ]
  },
  {
   "cell_type": "code",
   "execution_count": 16,
   "id": "6b582955",
   "metadata": {},
   "outputs": [
    {
     "data": {
      "text/plain": [
       "array([ 1.95015, 10.18631,  9.98852])"
      ]
     },
     "execution_count": 16,
     "metadata": {},
     "output_type": "execute_result"
    }
   ],
   "source": [
    "x_next = x_bar + K@(z_now - C@x_bar)\n",
    "x_next"
   ]
  },
  {
   "cell_type": "code",
   "execution_count": 17,
   "id": "27407d54",
   "metadata": {},
   "outputs": [
    {
     "data": {
      "text/plain": [
       "array([[ 0.01667, -0.00001,  0.     ],\n",
       "       [-0.00001,  0.09104,  0.00012],\n",
       "       [ 0.     ,  0.00012,  0.01166]])"
      ]
     },
     "execution_count": 17,
     "metadata": {},
     "output_type": "execute_result"
    }
   ],
   "source": [
    "S_xnext = (np.eye(3) - K@C)@S_xbar\n",
    "S_xnext"
   ]
  },
  {
   "cell_type": "code",
   "execution_count": null,
   "id": "ca1db59f",
   "metadata": {},
   "outputs": [],
   "source": []
  }
 ],
 "metadata": {
  "kernelspec": {
   "display_name": "research",
   "language": "python",
   "name": "python3"
  },
  "language_info": {
   "codemirror_mode": {
    "name": "ipython",
    "version": 3
   },
   "file_extension": ".py",
   "mimetype": "text/x-python",
   "name": "python",
   "nbconvert_exporter": "python",
   "pygments_lexer": "ipython3",
   "version": "3.12.8"
  }
 },
 "nbformat": 4,
 "nbformat_minor": 5
}
